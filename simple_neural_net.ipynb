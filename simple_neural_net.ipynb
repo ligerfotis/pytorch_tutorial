{
 "cells": [
  {
   "cell_type": "markdown",
   "source": [
    "# IV. Building and Training Neural Networks in PyTorch\n",
    "We can make use of PyTorch's `nn.Module` to define our own custom neural network architectures. Here, we'll create a simple feed-forward neural network.\n"
   ],
   "metadata": {
    "collapsed": false
   }
  },
  {
   "cell_type": "code",
   "execution_count": null,
   "outputs": [],
   "source": [
    "from torch import nn\n",
    "\n",
    "class SimpleNet(nn.Module):\n",
    "    def __init__(self, input_dim, hidden_dim, output_dim):\n",
    "        super(SimpleNet, self).__init__()\n",
    "        self.fc1 = nn.Linear(input_dim, hidden_dim)\n",
    "        self.relu = nn.ReLU()\n",
    "        self.fc2 = nn.Linear(hidden_dim, output_dim)\n",
    "\n",
    "    def forward(self, x):\n",
    "        x = self.fc1(x)\n",
    "        x = self.relu(x)\n",
    "        x = self.fc2(x)\n",
    "        return x\n",
    "\n",
    "# Test the network\n",
    "net = SimpleNet(10, 20, 1)\n",
    "print(net)\n"
   ],
   "metadata": {
    "collapsed": false
   }
  },
  {
   "cell_type": "markdown",
   "source": [
    "Training a neural network revolves around the following steps:\n",
    "- Forward Propagation\n",
    "- Loss computation\n",
    "- Backpropagation\n",
    "- Updating the parameters\n",
    "\n",
    "We will now see how to implement these steps in PyTorch."
   ],
   "metadata": {
    "collapsed": false
   }
  },
  {
   "cell_type": "code",
   "execution_count": null,
   "outputs": [],
   "source": [
    "import torch\n",
    "# Assuming binary classification for simplicity.\n",
    "criterion = nn.BCEWithLogitsLoss()\n",
    "\n",
    "# Using SGD with learning rate 0.01\n",
    "optimizer = torch.optim.SGD(net.parameters(), lr=0.01)\n",
    "\n",
    "# Dummy data\n",
    "input_data = torch.randn((10, 10))  # 10 samples with 10 features each\n",
    "labels = torch.tensor([0, 1, 0, 1, 1, 0, 1, 0, 1, 1]).float()  # binary labels\n",
    "\n",
    "for epoch in range(100):  # number of epochs\n",
    "    optimizer.zero_grad()  # zero the gradient buffers\n",
    "    output = net(input_data)  # forward pass\n",
    "    output = output.squeeze()  # remove extra dimension\n",
    "    loss = criterion(output, labels)  # compute loss\n",
    "    loss.backward()  # backpropagation\n",
    "    optimizer.step()  # update weights\n",
    "\n",
    "    if epoch % 10 == 0:\n",
    "        print('Epoch: {} - Loss: {:.6f}'.format(epoch, loss.item()))"
   ],
   "metadata": {
    "collapsed": false
   }
  }
 ],
 "metadata": {
  "kernelspec": {
   "display_name": "Python 3",
   "language": "python",
   "name": "python3"
  },
  "language_info": {
   "codemirror_mode": {
    "name": "ipython",
    "version": 2
   },
   "file_extension": ".py",
   "mimetype": "text/x-python",
   "name": "python",
   "nbconvert_exporter": "python",
   "pygments_lexer": "ipython2",
   "version": "2.7.6"
  }
 },
 "nbformat": 4,
 "nbformat_minor": 0
}
